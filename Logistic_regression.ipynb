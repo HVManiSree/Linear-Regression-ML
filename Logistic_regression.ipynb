{
  "nbformat": 4,
  "nbformat_minor": 0,
  "metadata": {
    "colab": {
      "provenance": [],
      "authorship_tag": "ABX9TyMOPAc7iRGxMvrw4JG2GdUb",
      "include_colab_link": true
    },
    "kernelspec": {
      "name": "python3",
      "display_name": "Python 3"
    },
    "language_info": {
      "name": "python"
    }
  },
  "cells": [
    {
      "cell_type": "markdown",
      "metadata": {
        "id": "view-in-github",
        "colab_type": "text"
      },
      "source": [
        "<a href=\"https://colab.research.google.com/github/HVManiSree/Linear-Regression-ML/blob/main/Logistic_regression.ipynb\" target=\"_parent\"><img src=\"https://colab.research.google.com/assets/colab-badge.svg\" alt=\"Open In Colab\"/></a>"
      ]
    },
    {
      "cell_type": "markdown",
      "source": [
        "QUESTION 1"
      ],
      "metadata": {
        "id": "1C6vUvN1mgTT"
      }
    },
    {
      "cell_type": "code",
      "source": [
        "import pandas as pd\n",
        "\n",
        "url = \"https://stats.idre.ucla.edu/stat/data/binary.csv\"\n",
        "df = pd.read_csv(url)\n",
        "\n",
        "print(df.head())\n",
        "\n"
      ],
      "metadata": {
        "colab": {
          "base_uri": "https://localhost:8080/"
        },
        "id": "gMw4kogmmEbg",
        "outputId": "d570a87c-1de1-462f-85ed-42818ff0fd94"
      },
      "execution_count": 15,
      "outputs": [
        {
          "output_type": "stream",
          "name": "stdout",
          "text": [
            "   admit  gre   gpa  rank\n",
            "0      0  380  3.61     3\n",
            "1      1  660  3.67     3\n",
            "2      1  800  4.00     1\n",
            "3      1  640  3.19     4\n",
            "4      0  520  2.93     4\n"
          ]
        }
      ]
    },
    {
      "cell_type": "code",
      "source": [
        "import pandas as pd\n",
        "import statsmodels.api as sm\n",
        "\n",
        "# Load dataset\n",
        "url = \"https://stats.idre.ucla.edu/stat/data/binary.csv\"\n",
        "df = pd.read_csv(url)\n",
        "\n",
        "print(df.head())\n",
        "\n",
        "# Features and target\n",
        "X = df[['gre', 'gpa', 'rank']]\n",
        "y = df['admit']\n",
        "\n",
        "# Add constant\n",
        "X = sm.add_constant(X)\n",
        "\n",
        "# Fit logistic regression\n",
        "model = sm.Logit(y, X)\n",
        "result = model.fit()\n",
        "\n",
        "# Show regression results\n",
        "print(result.summary())\n"
      ],
      "metadata": {
        "colab": {
          "base_uri": "https://localhost:8080/"
        },
        "id": "NuX1TQU9mcQ4",
        "outputId": "f8013cc9-f4a9-43de-bfd6-b362fdc7376c"
      },
      "execution_count": 16,
      "outputs": [
        {
          "output_type": "stream",
          "name": "stdout",
          "text": [
            "   admit  gre   gpa  rank\n",
            "0      0  380  3.61     3\n",
            "1      1  660  3.67     3\n",
            "2      1  800  4.00     1\n",
            "3      1  640  3.19     4\n",
            "4      0  520  2.93     4\n",
            "Optimization terminated successfully.\n",
            "         Current function value: 0.574302\n",
            "         Iterations 6\n",
            "                           Logit Regression Results                           \n",
            "==============================================================================\n",
            "Dep. Variable:                  admit   No. Observations:                  400\n",
            "Model:                          Logit   Df Residuals:                      396\n",
            "Method:                           MLE   Df Model:                            3\n",
            "Date:                Sat, 13 Sep 2025   Pseudo R-squ.:                 0.08107\n",
            "Time:                        15:04:39   Log-Likelihood:                -229.72\n",
            "converged:                       True   LL-Null:                       -249.99\n",
            "Covariance Type:            nonrobust   LLR p-value:                 8.207e-09\n",
            "==============================================================================\n",
            "                 coef    std err          z      P>|z|      [0.025      0.975]\n",
            "------------------------------------------------------------------------------\n",
            "const         -3.4495      1.133     -3.045      0.002      -5.670      -1.229\n",
            "gre            0.0023      0.001      2.101      0.036       0.000       0.004\n",
            "gpa            0.7770      0.327      2.373      0.018       0.135       1.419\n",
            "rank          -0.5600      0.127     -4.405      0.000      -0.809      -0.311\n",
            "==============================================================================\n"
          ]
        }
      ]
    },
    {
      "cell_type": "markdown",
      "source": [
        "QUESTION 2"
      ],
      "metadata": {
        "id": "Baz8EaTxm6wT"
      }
    },
    {
      "cell_type": "code",
      "source": [
        "import pandas as pd\n",
        "import statsmodels.api as sm\n",
        "\n",
        "# Example dataset\n",
        "data = {\n",
        "    'age': [25, 35, 45, 32, 50, 41, 60, 48, 33, 55],\n",
        "    'blood_pressure': [120, 130, 140, 135, 150, 138, 160, 145, 128, 155],\n",
        "    'cholesterol': [200, 210, 250, 220, 260, 245, 280, 240, 215, 270],\n",
        "    'disease': [0, 0, 1, 0, 1, 1, 1, 1, 0, 1]\n",
        "}\n",
        "\n",
        "df = pd.DataFrame(data)\n",
        "\n",
        "X = df[['age', 'blood_pressure', 'cholesterol']]\n",
        "y = df['disease']\n",
        "\n",
        "X = sm.add_constant(X)\n",
        "model = sm.Logit(y, X)\n",
        "result = model.fit()\n",
        "\n",
        "print(result.summary())\n"
      ],
      "metadata": {
        "colab": {
          "base_uri": "https://localhost:8080/"
        },
        "id": "O5kEdTOAm8Qe",
        "outputId": "8ac8de5b-adc2-4db3-d7b6-8060fbdba487"
      },
      "execution_count": 18,
      "outputs": [
        {
          "output_type": "stream",
          "name": "stdout",
          "text": [
            "Warning: Maximum number of iterations has been exceeded.\n",
            "         Current function value: 0.000000\n",
            "         Iterations: 35\n",
            "                           Logit Regression Results                           \n",
            "==============================================================================\n",
            "Dep. Variable:                disease   No. Observations:                   10\n",
            "Model:                          Logit   Df Residuals:                        6\n",
            "Method:                           MLE   Df Model:                            3\n",
            "Date:                Sat, 13 Sep 2025   Pseudo R-squ.:                   1.000\n",
            "Time:                        15:05:03   Log-Likelihood:            -2.9542e-11\n",
            "converged:                      False   LL-Null:                       -6.7301\n",
            "Covariance Type:            nonrobust   LLR p-value:                  0.003740\n",
            "==================================================================================\n",
            "                     coef    std err          z      P>|z|      [0.025      0.975]\n",
            "----------------------------------------------------------------------------------\n",
            "const           -221.4796   3.98e+08  -5.57e-07      1.000   -7.79e+08    7.79e+08\n",
            "age                2.8707   5.06e+06   5.68e-07      1.000   -9.91e+06    9.91e+06\n",
            "blood_pressure    -2.3721   4.86e+06  -4.88e-07      1.000   -9.52e+06    9.52e+06\n",
            "cholesterol        1.8862   4.27e+05   4.42e-06      1.000   -8.37e+05    8.37e+05\n",
            "==================================================================================\n",
            "\n",
            "Complete Separation: The results show that there iscomplete separation or perfect prediction.\n",
            "In this case the Maximum Likelihood Estimator does not exist and the parameters\n",
            "are not identified.\n"
          ]
        },
        {
          "output_type": "stream",
          "name": "stderr",
          "text": [
            "/usr/local/lib/python3.12/dist-packages/statsmodels/discrete/discrete_model.py:227: PerfectSeparationWarning: Perfect separation or prediction detected, parameter may not be identified\n",
            "  warnings.warn(msg, category=PerfectSeparationWarning)\n",
            "/usr/local/lib/python3.12/dist-packages/statsmodels/discrete/discrete_model.py:227: PerfectSeparationWarning: Perfect separation or prediction detected, parameter may not be identified\n",
            "  warnings.warn(msg, category=PerfectSeparationWarning)\n",
            "/usr/local/lib/python3.12/dist-packages/statsmodels/discrete/discrete_model.py:227: PerfectSeparationWarning: Perfect separation or prediction detected, parameter may not be identified\n",
            "  warnings.warn(msg, category=PerfectSeparationWarning)\n",
            "/usr/local/lib/python3.12/dist-packages/statsmodels/discrete/discrete_model.py:227: PerfectSeparationWarning: Perfect separation or prediction detected, parameter may not be identified\n",
            "  warnings.warn(msg, category=PerfectSeparationWarning)\n",
            "/usr/local/lib/python3.12/dist-packages/statsmodels/discrete/discrete_model.py:227: PerfectSeparationWarning: Perfect separation or prediction detected, parameter may not be identified\n",
            "  warnings.warn(msg, category=PerfectSeparationWarning)\n",
            "/usr/local/lib/python3.12/dist-packages/statsmodels/discrete/discrete_model.py:227: PerfectSeparationWarning: Perfect separation or prediction detected, parameter may not be identified\n",
            "  warnings.warn(msg, category=PerfectSeparationWarning)\n",
            "/usr/local/lib/python3.12/dist-packages/statsmodels/discrete/discrete_model.py:227: PerfectSeparationWarning: Perfect separation or prediction detected, parameter may not be identified\n",
            "  warnings.warn(msg, category=PerfectSeparationWarning)\n",
            "/usr/local/lib/python3.12/dist-packages/statsmodels/discrete/discrete_model.py:227: PerfectSeparationWarning: Perfect separation or prediction detected, parameter may not be identified\n",
            "  warnings.warn(msg, category=PerfectSeparationWarning)\n",
            "/usr/local/lib/python3.12/dist-packages/statsmodels/discrete/discrete_model.py:227: PerfectSeparationWarning: Perfect separation or prediction detected, parameter may not be identified\n",
            "  warnings.warn(msg, category=PerfectSeparationWarning)\n",
            "/usr/local/lib/python3.12/dist-packages/statsmodels/discrete/discrete_model.py:227: PerfectSeparationWarning: Perfect separation or prediction detected, parameter may not be identified\n",
            "  warnings.warn(msg, category=PerfectSeparationWarning)\n",
            "/usr/local/lib/python3.12/dist-packages/statsmodels/discrete/discrete_model.py:227: PerfectSeparationWarning: Perfect separation or prediction detected, parameter may not be identified\n",
            "  warnings.warn(msg, category=PerfectSeparationWarning)\n",
            "/usr/local/lib/python3.12/dist-packages/statsmodels/discrete/discrete_model.py:227: PerfectSeparationWarning: Perfect separation or prediction detected, parameter may not be identified\n",
            "  warnings.warn(msg, category=PerfectSeparationWarning)\n",
            "/usr/local/lib/python3.12/dist-packages/statsmodels/discrete/discrete_model.py:227: PerfectSeparationWarning: Perfect separation or prediction detected, parameter may not be identified\n",
            "  warnings.warn(msg, category=PerfectSeparationWarning)\n",
            "/usr/local/lib/python3.12/dist-packages/statsmodels/discrete/discrete_model.py:227: PerfectSeparationWarning: Perfect separation or prediction detected, parameter may not be identified\n",
            "  warnings.warn(msg, category=PerfectSeparationWarning)\n",
            "/usr/local/lib/python3.12/dist-packages/statsmodels/base/model.py:607: ConvergenceWarning: Maximum Likelihood optimization failed to converge. Check mle_retvals\n",
            "  warnings.warn(\"Maximum Likelihood optimization failed to \"\n"
          ]
        }
      ]
    },
    {
      "cell_type": "markdown",
      "source": [
        "QUESTION 3"
      ],
      "metadata": {
        "id": "Dg0lMN0cmjir"
      }
    },
    {
      "cell_type": "code",
      "source": [
        "import pandas as pd\n",
        "import statsmodels.api as sm\n",
        "\n",
        "# Example dataset\n",
        "data = {\n",
        "    'age': [22, 25, 30, 35, 40, 45, 50, 28, 33, 38],\n",
        "    'income': [25000, 30000, 40000, 50000, 55000, 60000, 65000, 32000, 48000, 52000],\n",
        "    'loyalty_score': [3, 4, 5, 2, 4, 5, 1, 3, 4, 5],\n",
        "    'buy_product': [0, 0, 1, 0, 1, 1, 0, 0, 1, 1]\n",
        "}\n",
        "\n",
        "df = pd.DataFrame(data)\n",
        "\n",
        "X = df[['age', 'income', 'loyalty_score']]\n",
        "y = df['buy_product']\n",
        "\n",
        "X = sm.add_constant(X)\n",
        "model = sm.Logit(y, X)\n",
        "result = model.fit()\n",
        "\n",
        "print(result.summary())\n"
      ],
      "metadata": {
        "colab": {
          "base_uri": "https://localhost:8080/"
        },
        "id": "M2P60hh1lxPU",
        "outputId": "265b780a-0d64-45d6-8628-6426f16c6820"
      },
      "execution_count": 17,
      "outputs": [
        {
          "output_type": "stream",
          "name": "stdout",
          "text": [
            "Warning: Maximum number of iterations has been exceeded.\n",
            "         Current function value: 0.000000\n",
            "         Iterations: 35\n",
            "                           Logit Regression Results                           \n",
            "==============================================================================\n",
            "Dep. Variable:            buy_product   No. Observations:                   10\n",
            "Model:                          Logit   Df Residuals:                        6\n",
            "Method:                           MLE   Df Model:                            3\n",
            "Date:                Sat, 13 Sep 2025   Pseudo R-squ.:                   1.000\n",
            "Time:                        15:04:40   Log-Likelihood:            -1.9083e-09\n",
            "converged:                      False   LL-Null:                       -6.9315\n",
            "Covariance Type:            nonrobust   LLR p-value:                  0.003098\n",
            "=================================================================================\n",
            "                    coef    std err          z      P>|z|      [0.025      0.975]\n",
            "---------------------------------------------------------------------------------\n",
            "const           -99.5337   9.93e+08     -1e-07      1.000   -1.95e+09    1.95e+09\n",
            "age             -29.7264   6.62e+07  -4.49e-07      1.000    -1.3e+08     1.3e+08\n",
            "income            0.0203   6.62e+04   3.06e-07      1.000    -1.3e+05     1.3e+05\n",
            "loyalty_score    48.4605   2.33e+06   2.08e-05      1.000   -4.56e+06    4.56e+06\n",
            "=================================================================================\n",
            "\n",
            "Complete Separation: The results show that there iscomplete separation or perfect prediction.\n",
            "In this case the Maximum Likelihood Estimator does not exist and the parameters\n",
            "are not identified.\n"
          ]
        },
        {
          "output_type": "stream",
          "name": "stderr",
          "text": [
            "/usr/local/lib/python3.12/dist-packages/statsmodels/discrete/discrete_model.py:227: PerfectSeparationWarning: Perfect separation or prediction detected, parameter may not be identified\n",
            "  warnings.warn(msg, category=PerfectSeparationWarning)\n",
            "/usr/local/lib/python3.12/dist-packages/statsmodels/discrete/discrete_model.py:227: PerfectSeparationWarning: Perfect separation or prediction detected, parameter may not be identified\n",
            "  warnings.warn(msg, category=PerfectSeparationWarning)\n",
            "/usr/local/lib/python3.12/dist-packages/statsmodels/base/model.py:607: ConvergenceWarning: Maximum Likelihood optimization failed to converge. Check mle_retvals\n",
            "  warnings.warn(\"Maximum Likelihood optimization failed to \"\n"
          ]
        }
      ]
    }
  ]
}